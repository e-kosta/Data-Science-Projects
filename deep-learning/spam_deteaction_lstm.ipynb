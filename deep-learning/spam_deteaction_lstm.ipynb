{
 "cells": [
  {
   "cell_type": "code",
   "execution_count": 39,
   "id": "26284bcc-233f-4eaf-ad64-292ea3364b35",
   "metadata": {},
   "outputs": [],
   "source": [
    "import numpy as np \n",
    "import pandas as pd\n",
    "from tensorflow.keras.models import Sequential \n",
    "from tensorflow.keras.layers import LSTM, Dense, Embedding, Dropout, SpatialDropout1D, BatchNormalization, Bidirectional\n",
    "from tensorflow.keras.preprocessing.text import Tokenizer\n",
    "from tensorflow.keras.preprocessing.sequence import pad_sequences\n",
    "from sklearn.model_selection import train_test_split"
   ]
  },
  {
   "cell_type": "code",
   "execution_count": 45,
   "id": "02095025-a943-428d-87b7-fc1f28850348",
   "metadata": {},
   "outputs": [],
   "source": [
    "emails = [\n",
    "    \"Win a free iPhone now! Click here\",\n",
    "    \"Meeting scheduled for tomorrow at 3pm\",\n",
    "    \"Congratulations! You've won $1000000\",\n",
    "    \"Please review the attached document\",\n",
    "    \"Get rich quick! Limited time offer\",\n",
    "    \"Dinner plans this weekend?\",\n",
    "    \"URGENT: Your account needs verification\",\n",
    "    \"Thanks for the project update\", \n",
    "    \"Double your money instantly! Exclusive offer\",\n",
    "    \"Your invoice for last month is attached\",\n",
    "    \"Claim your free reward now, limited spots!\",\n",
    "    \"Lunch tomorrow? Let me know your time.\",\n",
    "    \"Suspicious login detected. Verify immediately!\",\n",
    "    \"Looking forward to our next meeting\"]"
   ]
  },
  {
   "cell_type": "code",
   "execution_count": 46,
   "id": "54f6efab-433f-4f38-84c5-abd72aacb2d0",
   "metadata": {},
   "outputs": [],
   "source": [
    "labels = [1,0,1,0,1, 0,1,0,1,0,1,0,1,0]\n",
    "# 1 spam 0 non spam \n"
   ]
  },
  {
   "cell_type": "code",
   "execution_count": 47,
   "id": "04793ee9-4a37-4fcc-8501-38f775f7f82f",
   "metadata": {},
   "outputs": [],
   "source": [
    "# PREPROCESSING \n",
    "#Text tokenization \n",
    "max_words = 1000 # only keep the top 1000 most common words\n",
    "max_len = 20 # each email will be padded/truncated to 20 tokens \n",
    "# Convert text to numerical sequences\n",
    "tokenizer = Tokenizer(num_words = max_words)\n",
    "tokenizer.fit_on_texts(emails) # builds vocabulary from email text\n",
    "sequences = tokenizer.texts_to_sequences(emails) # convert text into integer sequences\n"
   ]
  },
  {
   "cell_type": "code",
   "execution_count": 48,
   "id": "b02c69f5-6740-4602-bd37-a2b36804ab79",
   "metadata": {},
   "outputs": [],
   "source": [
    "# PADDING \n",
    "# pads all sequences to the same length so LSTM input consistent\n",
    "X = pad_sequences(sequences, maxlen = max_len)\n",
    "y = np.array(labels)"
   ]
  },
  {
   "cell_type": "code",
   "execution_count": 49,
   "id": "6cd2bc35-e8e6-45ac-bf68-d125293a4c95",
   "metadata": {},
   "outputs": [],
   "source": [
    "# SPLIT Data into training and testing sets \n",
    "X_train, X_test, y_train, y_test = train_test_split(X, y, test_size = 0.2, random_state=42)"
   ]
  },
  {
   "cell_type": "code",
   "execution_count": 50,
   "id": "601bfff8-cf20-4526-99c2-15e3a1e177ac",
   "metadata": {},
   "outputs": [],
   "source": [
    "# 80 % of the data are used for training and 20% for testing"
   ]
  },
  {
   "cell_type": "code",
   "execution_count": 51,
   "id": "e54dbdc6-0764-451c-9f51-1739e807e533",
   "metadata": {},
   "outputs": [],
   "source": [
    "# BUILD THE MODEL "
   ]
  },
  {
   "cell_type": "code",
   "execution_count": 52,
   "id": "3824c7e2-c5c9-40f1-9c42-c64186add9c9",
   "metadata": {},
   "outputs": [],
   "source": [
    "model = Sequential([\n",
    "    Embedding(max_words, 32, input_length = max_len), # Converts integer sequences into dense vectors\n",
    "    LSTM(64, dropout = 0.2), # LSTM learns sequential patters\n",
    "    Dense(32, activation = 'relu'), # learn feature transformation\n",
    "    Dropout(0.3),\n",
    "    Dense(1, activation = 'sigmoid') # binary classification\n",
    "])"
   ]
  },
  {
   "cell_type": "code",
   "execution_count": 53,
   "id": "0635ffb3-f5b3-44c4-ad31-6bb3ca5d75ff",
   "metadata": {},
   "outputs": [],
   "source": [
    "# COMPILE THE MODEL \n",
    "model.compile(optimizer = 'adam', loss = 'binary_crossentropy', metrics = ['accuracy'])"
   ]
  },
  {
   "cell_type": "code",
   "execution_count": 54,
   "id": "35021e26-1f93-46c6-b6ca-d6efeb554e8c",
   "metadata": {},
   "outputs": [
    {
     "name": "stdout",
     "output_type": "stream",
     "text": [
      "Epoch 1/20\n",
      "\u001b[1m4/4\u001b[0m \u001b[32m━━━━━━━━━━━━━━━━━━━━\u001b[0m\u001b[37m\u001b[0m \u001b[1m6s\u001b[0m 227ms/step - accuracy: 0.4000 - loss: 0.6942 - val_accuracy: 0.6667 - val_loss: 0.6926\n",
      "Epoch 2/20\n",
      "\u001b[1m4/4\u001b[0m \u001b[32m━━━━━━━━━━━━━━━━━━━━\u001b[0m\u001b[37m\u001b[0m \u001b[1m0s\u001b[0m 27ms/step - accuracy: 0.7667 - loss: 0.6877 - val_accuracy: 0.3333 - val_loss: 0.6943\n",
      "Epoch 3/20\n",
      "\u001b[1m4/4\u001b[0m \u001b[32m━━━━━━━━━━━━━━━━━━━━\u001b[0m\u001b[37m\u001b[0m \u001b[1m0s\u001b[0m 27ms/step - accuracy: 0.6333 - loss: 0.6897 - val_accuracy: 0.3333 - val_loss: 0.6940\n",
      "Epoch 4/20\n",
      "\u001b[1m4/4\u001b[0m \u001b[32m━━━━━━━━━━━━━━━━━━━━\u001b[0m\u001b[37m\u001b[0m \u001b[1m0s\u001b[0m 24ms/step - accuracy: 0.5833 - loss: 0.6920 - val_accuracy: 0.3333 - val_loss: 0.6941\n",
      "Epoch 5/20\n",
      "\u001b[1m4/4\u001b[0m \u001b[32m━━━━━━━━━━━━━━━━━━━━\u001b[0m\u001b[37m\u001b[0m \u001b[1m0s\u001b[0m 22ms/step - accuracy: 0.8667 - loss: 0.6750 - val_accuracy: 0.3333 - val_loss: 0.6938\n",
      "Epoch 6/20\n",
      "\u001b[1m4/4\u001b[0m \u001b[32m━━━━━━━━━━━━━━━━━━━━\u001b[0m\u001b[37m\u001b[0m \u001b[1m0s\u001b[0m 22ms/step - accuracy: 0.6333 - loss: 0.6897 - val_accuracy: 0.3333 - val_loss: 0.6934\n",
      "Epoch 7/20\n",
      "\u001b[1m4/4\u001b[0m \u001b[32m━━━━━━━━━━━━━━━━━━━━\u001b[0m\u001b[37m\u001b[0m \u001b[1m0s\u001b[0m 25ms/step - accuracy: 0.8667 - loss: 0.6771 - val_accuracy: 0.3333 - val_loss: 0.6932\n",
      "Epoch 8/20\n",
      "\u001b[1m4/4\u001b[0m \u001b[32m━━━━━━━━━━━━━━━━━━━━\u001b[0m\u001b[37m\u001b[0m \u001b[1m0s\u001b[0m 25ms/step - accuracy: 0.8667 - loss: 0.6621 - val_accuracy: 0.3333 - val_loss: 0.6933\n",
      "Epoch 9/20\n",
      "\u001b[1m4/4\u001b[0m \u001b[32m━━━━━━━━━━━━━━━━━━━━\u001b[0m\u001b[37m\u001b[0m \u001b[1m0s\u001b[0m 27ms/step - accuracy: 1.0000 - loss: 0.6756 - val_accuracy: 0.3333 - val_loss: 0.6922\n",
      "Epoch 10/20\n",
      "\u001b[1m4/4\u001b[0m \u001b[32m━━━━━━━━━━━━━━━━━━━━\u001b[0m\u001b[37m\u001b[0m \u001b[1m0s\u001b[0m 30ms/step - accuracy: 1.0000 - loss: 0.6504 - val_accuracy: 0.3333 - val_loss: 0.6901\n",
      "Epoch 11/20\n",
      "\u001b[1m4/4\u001b[0m \u001b[32m━━━━━━━━━━━━━━━━━━━━\u001b[0m\u001b[37m\u001b[0m \u001b[1m0s\u001b[0m 42ms/step - accuracy: 1.0000 - loss: 0.6468 - val_accuracy: 0.3333 - val_loss: 0.6874\n",
      "Epoch 12/20\n",
      "\u001b[1m4/4\u001b[0m \u001b[32m━━━━━━━━━━━━━━━━━━━━\u001b[0m\u001b[37m\u001b[0m \u001b[1m0s\u001b[0m 31ms/step - accuracy: 1.0000 - loss: 0.6230 - val_accuracy: 0.6667 - val_loss: 0.6820\n",
      "Epoch 13/20\n",
      "\u001b[1m4/4\u001b[0m \u001b[32m━━━━━━━━━━━━━━━━━━━━\u001b[0m\u001b[37m\u001b[0m \u001b[1m0s\u001b[0m 28ms/step - accuracy: 1.0000 - loss: 0.6166 - val_accuracy: 1.0000 - val_loss: 0.6700\n",
      "Epoch 14/20\n",
      "\u001b[1m4/4\u001b[0m \u001b[32m━━━━━━━━━━━━━━━━━━━━\u001b[0m\u001b[37m\u001b[0m \u001b[1m0s\u001b[0m 30ms/step - accuracy: 1.0000 - loss: 0.5548 - val_accuracy: 0.3333 - val_loss: 0.6871\n",
      "Epoch 15/20\n",
      "\u001b[1m4/4\u001b[0m \u001b[32m━━━━━━━━━━━━━━━━━━━━\u001b[0m\u001b[37m\u001b[0m \u001b[1m0s\u001b[0m 30ms/step - accuracy: 1.0000 - loss: 0.4930 - val_accuracy: 0.3333 - val_loss: 0.6814\n",
      "Epoch 16/20\n",
      "\u001b[1m4/4\u001b[0m \u001b[32m━━━━━━━━━━━━━━━━━━━━\u001b[0m\u001b[37m\u001b[0m \u001b[1m0s\u001b[0m 24ms/step - accuracy: 1.0000 - loss: 0.4161 - val_accuracy: 0.6667 - val_loss: 0.5683\n",
      "Epoch 17/20\n",
      "\u001b[1m4/4\u001b[0m \u001b[32m━━━━━━━━━━━━━━━━━━━━\u001b[0m\u001b[37m\u001b[0m \u001b[1m0s\u001b[0m 33ms/step - accuracy: 0.8667 - loss: 0.3283 - val_accuracy: 0.6667 - val_loss: 0.6035\n",
      "Epoch 18/20\n",
      "\u001b[1m4/4\u001b[0m \u001b[32m━━━━━━━━━━━━━━━━━━━━\u001b[0m\u001b[37m\u001b[0m \u001b[1m0s\u001b[0m 34ms/step - accuracy: 0.7333 - loss: 0.3098 - val_accuracy: 0.3333 - val_loss: 0.6298\n",
      "Epoch 19/20\n",
      "\u001b[1m4/4\u001b[0m \u001b[32m━━━━━━━━━━━━━━━━━━━━\u001b[0m\u001b[37m\u001b[0m \u001b[1m0s\u001b[0m 35ms/step - accuracy: 1.0000 - loss: 0.1950 - val_accuracy: 1.0000 - val_loss: 0.4639\n",
      "Epoch 20/20\n",
      "\u001b[1m4/4\u001b[0m \u001b[32m━━━━━━━━━━━━━━━━━━━━\u001b[0m\u001b[37m\u001b[0m \u001b[1m0s\u001b[0m 31ms/step - accuracy: 1.0000 - loss: 0.1588 - val_accuracy: 0.6667 - val_loss: 0.4184\n"
     ]
    }
   ],
   "source": [
    "# TRAIN THE MODEL \n",
    "history = model.fit(X_train, y_train, epochs = 20, \n",
    "         batch_size = 2, # number of samples processed before the model updates, \n",
    "         validation_split = 0.2, # use 20% of training for validation\n",
    "         verbose =1 # show progress during training)\n",
    "         )"
   ]
  },
  {
   "cell_type": "code",
   "execution_count": 61,
   "id": "73a980f9-f9d6-4c18-930c-1f645b2e4eb4",
   "metadata": {},
   "outputs": [],
   "source": [
    "max_len = 25\n",
    "\n",
    "tokenizer = Tokenizer(num_words = max_words)\n",
    "tokenizer.fit_on_texts(emails) # builds vocabulary from email text\n",
    "sequences = tokenizer.texts_to_sequences(emails) # convert text into integer sequences"
   ]
  },
  {
   "cell_type": "code",
   "execution_count": 64,
   "id": "23a37a06-65b3-428d-8e03-44ba74de6089",
   "metadata": {},
   "outputs": [],
   "source": [
    "X = pad_sequences(sequences, maxlen = max_len, padding = 'post', truncating=  'post')\n",
    "y = np.array(labels)"
   ]
  },
  {
   "cell_type": "code",
   "execution_count": 65,
   "id": "fc6f6342-532c-4dc7-baab-686b8c90d22b",
   "metadata": {},
   "outputs": [],
   "source": [
    "# SPLIT Data into training and testing sets \n",
    "X_train, X_test, y_train, y_test = train_test_split(X, y, test_size = 0.2, random_state=42)"
   ]
  },
  {
   "cell_type": "code",
   "execution_count": 66,
   "id": "aadd6493-dfe4-4240-be68-ce1d90e789f7",
   "metadata": {},
   "outputs": [
    {
     "name": "stderr",
     "output_type": "stream",
     "text": [
      "C:\\Users\\admin\\AppData\\Roaming\\Python\\Python312\\site-packages\\keras\\src\\layers\\core\\embedding.py:90: UserWarning: Argument `input_length` is deprecated. Just remove it.\n",
      "  warnings.warn(\n"
     ]
    }
   ],
   "source": [
    "model1 = Sequential([\n",
    "    Embedding(max_words, 128, input_length=max_len),    # Higher embedding dimension\n",
    "    SpatialDropout1D(0.3),                              # Drops entire word embeddings to improve robustness\n",
    "    Bidirectional(LSTM(128, return_sequences=True, dropout=0.3, recurrent_dropout=0.3)),\n",
    "    BatchNormalization(),                               # Normalizes activations to speed up learning\n",
    "    LSTM(64, dropout=0.3, recurrent_dropout=0.3),       # Second LSTM layer for deeper temporal learning\n",
    "    Dense(64, activation='relu', kernel_regularizer='l2'),\n",
    "    Dropout(0.4),\n",
    "    Dense(32, activation='relu', kernel_regularizer='l2'),\n",
    "    Dropout(0.3),\n",
    "    Dense(1, activation='sigmoid')                      # Binary classification output\n",
    "])"
   ]
  },
  {
   "cell_type": "code",
   "execution_count": 67,
   "id": "346ca28e-3a33-41b4-a88a-41cbf32d0845",
   "metadata": {},
   "outputs": [],
   "source": [
    "model1.compile(optimizer = 'adam', loss = 'binary_crossentropy', metrics = ['accuracy'])"
   ]
  },
  {
   "cell_type": "code",
   "execution_count": 68,
   "id": "a0d1bee7-fc1a-4758-9a67-7ec6c0191ff3",
   "metadata": {},
   "outputs": [
    {
     "name": "stdout",
     "output_type": "stream",
     "text": [
      "Epoch 1/20\n",
      "\u001b[1m4/4\u001b[0m \u001b[32m━━━━━━━━━━━━━━━━━━━━\u001b[0m\u001b[37m\u001b[0m \u001b[1m13s\u001b[0m 510ms/step - accuracy: 0.3667 - loss: 1.8889 - val_accuracy: 0.6667 - val_loss: 1.7379\n",
      "Epoch 2/20\n",
      "\u001b[1m4/4\u001b[0m \u001b[32m━━━━━━━━━━━━━━━━━━━━\u001b[0m\u001b[37m\u001b[0m \u001b[1m0s\u001b[0m 37ms/step - accuracy: 0.3167 - loss: 1.7487 - val_accuracy: 0.6667 - val_loss: 1.7118\n",
      "Epoch 3/20\n",
      "\u001b[1m4/4\u001b[0m \u001b[32m━━━━━━━━━━━━━━━━━━━━\u001b[0m\u001b[37m\u001b[0m \u001b[1m0s\u001b[0m 37ms/step - accuracy: 0.4667 - loss: 1.6784 - val_accuracy: 0.6667 - val_loss: 1.6900\n",
      "Epoch 4/20\n",
      "\u001b[1m4/4\u001b[0m \u001b[32m━━━━━━━━━━━━━━━━━━━━\u001b[0m\u001b[37m\u001b[0m \u001b[1m0s\u001b[0m 45ms/step - accuracy: 0.4500 - loss: 1.6791 - val_accuracy: 0.6667 - val_loss: 1.6702\n",
      "Epoch 5/20\n",
      "\u001b[1m4/4\u001b[0m \u001b[32m━━━━━━━━━━━━━━━━━━━━\u001b[0m\u001b[37m\u001b[0m \u001b[1m0s\u001b[0m 35ms/step - accuracy: 0.5000 - loss: 1.7194 - val_accuracy: 0.6667 - val_loss: 1.6529\n",
      "Epoch 6/20\n",
      "\u001b[1m4/4\u001b[0m \u001b[32m━━━━━━━━━━━━━━━━━━━━\u001b[0m\u001b[37m\u001b[0m \u001b[1m0s\u001b[0m 40ms/step - accuracy: 0.5500 - loss: 1.5914 - val_accuracy: 0.6667 - val_loss: 1.6363\n",
      "Epoch 7/20\n",
      "\u001b[1m4/4\u001b[0m \u001b[32m━━━━━━━━━━━━━━━━━━━━\u001b[0m\u001b[37m\u001b[0m \u001b[1m0s\u001b[0m 37ms/step - accuracy: 0.4500 - loss: 1.6563 - val_accuracy: 0.3333 - val_loss: 1.6195\n",
      "Epoch 8/20\n",
      "\u001b[1m4/4\u001b[0m \u001b[32m━━━━━━━━━━━━━━━━━━━━\u001b[0m\u001b[37m\u001b[0m \u001b[1m0s\u001b[0m 38ms/step - accuracy: 0.6000 - loss: 1.6278 - val_accuracy: 0.3333 - val_loss: 1.6039\n",
      "Epoch 9/20\n",
      "\u001b[1m4/4\u001b[0m \u001b[32m━━━━━━━━━━━━━━━━━━━━\u001b[0m\u001b[37m\u001b[0m \u001b[1m0s\u001b[0m 36ms/step - accuracy: 0.4667 - loss: 1.5648 - val_accuracy: 0.3333 - val_loss: 1.5877\n",
      "Epoch 10/20\n",
      "\u001b[1m4/4\u001b[0m \u001b[32m━━━━━━━━━━━━━━━━━━━━\u001b[0m\u001b[37m\u001b[0m \u001b[1m0s\u001b[0m 45ms/step - accuracy: 0.5000 - loss: 1.5766 - val_accuracy: 0.3333 - val_loss: 1.5716\n",
      "Epoch 11/20\n",
      "\u001b[1m4/4\u001b[0m \u001b[32m━━━━━━━━━━━━━━━━━━━━\u001b[0m\u001b[37m\u001b[0m \u001b[1m0s\u001b[0m 45ms/step - accuracy: 0.6000 - loss: 1.5263 - val_accuracy: 0.3333 - val_loss: 1.5544\n",
      "Epoch 12/20\n",
      "\u001b[1m4/4\u001b[0m \u001b[32m━━━━━━━━━━━━━━━━━━━━\u001b[0m\u001b[37m\u001b[0m \u001b[1m0s\u001b[0m 45ms/step - accuracy: 0.4667 - loss: 1.5818 - val_accuracy: 0.3333 - val_loss: 1.5386\n",
      "Epoch 13/20\n",
      "\u001b[1m4/4\u001b[0m \u001b[32m━━━━━━━━━━━━━━━━━━━━\u001b[0m\u001b[37m\u001b[0m \u001b[1m0s\u001b[0m 40ms/step - accuracy: 0.6667 - loss: 1.5076 - val_accuracy: 0.6667 - val_loss: 1.5224\n",
      "Epoch 14/20\n",
      "\u001b[1m4/4\u001b[0m \u001b[32m━━━━━━━━━━━━━━━━━━━━\u001b[0m\u001b[37m\u001b[0m \u001b[1m0s\u001b[0m 46ms/step - accuracy: 0.5000 - loss: 1.4899 - val_accuracy: 0.6667 - val_loss: 1.5070\n",
      "Epoch 15/20\n",
      "\u001b[1m4/4\u001b[0m \u001b[32m━━━━━━━━━━━━━━━━━━━━\u001b[0m\u001b[37m\u001b[0m \u001b[1m0s\u001b[0m 40ms/step - accuracy: 0.5500 - loss: 1.5038 - val_accuracy: 0.6667 - val_loss: 1.4926\n",
      "Epoch 16/20\n",
      "\u001b[1m4/4\u001b[0m \u001b[32m━━━━━━━━━━━━━━━━━━━━\u001b[0m\u001b[37m\u001b[0m \u001b[1m0s\u001b[0m 46ms/step - accuracy: 0.6500 - loss: 1.4724 - val_accuracy: 0.6667 - val_loss: 1.4773\n",
      "Epoch 17/20\n",
      "\u001b[1m4/4\u001b[0m \u001b[32m━━━━━━━━━━━━━━━━━━━━\u001b[0m\u001b[37m\u001b[0m \u001b[1m0s\u001b[0m 50ms/step - accuracy: 0.7667 - loss: 1.4085 - val_accuracy: 0.6667 - val_loss: 1.4618\n",
      "Epoch 18/20\n",
      "\u001b[1m4/4\u001b[0m \u001b[32m━━━━━━━━━━━━━━━━━━━━\u001b[0m\u001b[37m\u001b[0m \u001b[1m1s\u001b[0m 77ms/step - accuracy: 0.4500 - loss: 1.6391 - val_accuracy: 0.6667 - val_loss: 1.4528\n",
      "Epoch 19/20\n",
      "\u001b[1m4/4\u001b[0m \u001b[32m━━━━━━━━━━━━━━━━━━━━\u001b[0m\u001b[37m\u001b[0m \u001b[1m0s\u001b[0m 48ms/step - accuracy: 0.3500 - loss: 1.4583 - val_accuracy: 0.3333 - val_loss: 1.4423\n",
      "Epoch 20/20\n",
      "\u001b[1m4/4\u001b[0m \u001b[32m━━━━━━━━━━━━━━━━━━━━\u001b[0m\u001b[37m\u001b[0m \u001b[1m0s\u001b[0m 45ms/step - accuracy: 0.6333 - loss: 1.3935 - val_accuracy: 0.3333 - val_loss: 1.4313\n"
     ]
    }
   ],
   "source": [
    "# TRAIN THE MODEL \n",
    "history1 = model1.fit(X_train, y_train, epochs = 20, \n",
    "         batch_size = 2, # number of samples processed before the model updates, \n",
    "         validation_split = 0.2, # use 20% of training for validation\n",
    "         verbose =1 # show progress during training)\n",
    "         )"
   ]
  },
  {
   "cell_type": "code",
   "execution_count": 69,
   "id": "2d68a0c7-f7a7-4b43-92b8-f4f642850b2f",
   "metadata": {},
   "outputs": [],
   "source": [
    "import matplotlib.pyplot as plt"
   ]
  },
  {
   "cell_type": "code",
   "execution_count": 70,
   "id": "0318204a-e101-4ca3-a38e-2514c21b4e94",
   "metadata": {},
   "outputs": [
    {
     "data": {
      "text/plain": [
       "[<matplotlib.lines.Line2D at 0x243ac63c710>]"
      ]
     },
     "execution_count": 70,
     "metadata": {},
     "output_type": "execute_result"
    },
    {
     "data": {
      "image/png": "[encoded data removed]",
      "text/plain": [
       "<Figure size 1000x400 with 1 Axes>"
      ]
     },
     "metadata": {},
     "output_type": "display_data"
    }
   ],
   "source": [
    "plt.figure(figsize =(10,4))\n",
    "plt.plot(history1.history['accuracy'], label = 'Train Accuracy')\n",
    "plt.plot(history1.history['val_accuracy'], label = 'Val Accuracy')"
   ]
  },
  {
   "cell_type": "code",
   "execution_count": 72,
   "id": "04263b84-50d2-4b14-8cb3-265c69449a8c",
   "metadata": {},
   "outputs": [
    {
     "name": "stdout",
     "output_type": "stream",
     "text": [
      "\u001b[1m1/1\u001b[0m \u001b[32m━━━━━━━━━━━━━━━━━━━━\u001b[0m\u001b[37m\u001b[0m \u001b[1m0s\u001b[0m 99ms/step - accuracy: 0.6667 - loss: 1.4270\n"
     ]
    }
   ],
   "source": [
    "# EVALUATE THE MODEL PERFORMANCE \n",
    "loss, accuracy = model1.evaluate(X_test, y_test, verbose =1)\n"
   ]
  },
  {
   "cell_type": "code",
   "execution_count": 88,
   "id": "ff5689ba-bbb3-46ac-bcf1-3a05ae524e6a",
   "metadata": {},
   "outputs": [],
   "source": [
    "test_emails = [ \n",
    "      \"Congratulations! You've won $1000000\",\n",
    "              \"Meeting scheduled for tomorrow at 3pm\", \n",
    "               \"Looking forward to our next meeting\"]\n"
   ]
  },
  {
   "cell_type": "code",
   "execution_count": 89,
   "id": "16efde41-0f86-4b84-9c3f-11536007bad6",
   "metadata": {},
   "outputs": [],
   "source": [
    "# convert new emails into padded sequences \n",
    "test_seq = tokenizer.texts_to_sequences(test_emails)\n",
    "test_pad = pad_sequences(test_seq, maxlen = max_len)"
   ]
  },
  {
   "cell_type": "code",
   "execution_count": 90,
   "id": "6dffa270-18c9-4fff-bbe1-d6cd97a3df4d",
   "metadata": {},
   "outputs": [
    {
     "name": "stdout",
     "output_type": "stream",
     "text": [
      "\u001b[1m1/1\u001b[0m \u001b[32m━━━━━━━━━━━━━━━━━━━━\u001b[0m\u001b[37m\u001b[0m \u001b[1m0s\u001b[0m 73ms/step\n"
     ]
    },
    {
     "data": {
      "text/plain": [
       "array([[0.49454224],\n",
       "       [0.49559215],\n",
       "       [0.49710542]], dtype=float32)"
      ]
     },
     "execution_count": 90,
     "metadata": {},
     "output_type": "execute_result"
    }
   ],
   "source": [
    "predictions = model1.predict(test_pad)\n",
    "predictions"
   ]
  },
  {
   "cell_type": "code",
   "execution_count": 91,
   "id": "bc5f2ceb-e110-488a-8c00-bd32c96ce19e",
   "metadata": {},
   "outputs": [
    {
     "name": "stdout",
     "output_type": "stream",
     "text": [
      "Congratulations! You've won $1000000..... > NOT SPAM (0.49)\n",
      "Meeting scheduled for tomorrow at 3pm..... > NOT SPAM (0.50)\n",
      "Looking forward to our next meeting..... > NOT SPAM (0.50)\n"
     ]
    }
   ],
   "source": [
    "for email, pred in zip(test_emails, predictions):\n",
    "    label = \"SPAM\" if pred > 0.5 else \"NOT SPAM\"\n",
    "    print(f\"{email[:40]}..... > {label} ({pred[0]:.2f})\")"
   ]
  },
  {
   "cell_type": "code",
   "execution_count": null,
   "id": "358e3b5f-4175-44d9-b6c7-a6fbac062e77",
   "metadata": {},
   "outputs": [],
   "source": []
  }
 ],
 "metadata": {
  "kernelspec": {
   "display_name": "Python 3 (ipykernel)",
   "language": "python",
   "name": "python3"
  },
  "language_info": {
   "codemirror_mode": {
    "name": "ipython",
    "version": 3
   },
   "file_extension": ".py",
   "mimetype": "text/x-python",
   "name": "python",
   "nbconvert_exporter": "python",
   "pygments_lexer": "ipython3",
   "version": "3.12.1"
  }
 },
 "nbformat": 4,
 "nbformat_minor": 5
}
