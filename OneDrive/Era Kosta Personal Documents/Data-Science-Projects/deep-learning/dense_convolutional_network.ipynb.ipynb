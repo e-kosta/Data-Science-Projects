{
 "cells": [
  {
   "cell_type": "markdown",
   "id": "176e5a9a-4fd3-43dc-90a0-f8dbdb891da4",
   "metadata": {},
   "source": [
    "## DEEP LEARNING"
   ]
  },
  {
   "cell_type": "code",
   "execution_count": 1,
   "id": "5fc365d1-3af9-42a4-8821-348564f1fdab",
   "metadata": {},
   "outputs": [],
   "source": [
    "import numpy as np \n",
    "import matplotlib.pyplot as plt"
   ]
  },
  {
   "cell_type": "code",
   "execution_count": 2,
   "id": "b4c471a2-6467-412f-a76e-18de67315e47",
   "metadata": {},
   "outputs": [],
   "source": [
    "X = np.array([[0,0], [0,1],[1,0], [1,1]])"
   ]
  },
  {
   "cell_type": "code",
   "execution_count": 3,
   "id": "360b6b43-6d7a-48f4-81aa-32daf8e556aa",
   "metadata": {},
   "outputs": [
    {
     "name": "stdout",
     "output_type": "stream",
     "text": [
      "input: [[0 0]\n",
      " [0 1]\n",
      " [1 0]\n",
      " [1 1]]\n"
     ]
    }
   ],
   "source": [
    "print(\"input:\", X)"
   ]
  },
  {
   "cell_type": "code",
   "execution_count": 4,
   "id": "a80d84fe-c6ab-4ae3-91f9-1a99ab794df5",
   "metadata": {},
   "outputs": [],
   "source": [
    "y = np.array([0,1,1,1])"
   ]
  },
  {
   "cell_type": "code",
   "execution_count": 5,
   "id": "5fc36453-b241-4ebd-879f-894f4e64ede0",
   "metadata": {},
   "outputs": [
    {
     "data": {
      "text/plain": [
       "array([0, 1, 1, 1])"
      ]
     },
     "execution_count": 5,
     "metadata": {},
     "output_type": "execute_result"
    }
   ],
   "source": [
    "y"
   ]
  },
  {
   "cell_type": "code",
   "execution_count": 6,
   "id": "0265acaa-3b1f-4f31-aa77-ae4c05a5f2d0",
   "metadata": {},
   "outputs": [],
   "source": [
    "def neuron(x, weights, bias):\n",
    "    z = np.dot(x, weights) + bias\n",
    "    output = 1/(1+np.exp(-z))\n",
    "    return output\n",
    "    "
   ]
  },
  {
   "cell_type": "code",
   "execution_count": 7,
   "id": "3a92b94a-bc5b-4ebf-8eb0-b97f269674f7",
   "metadata": {},
   "outputs": [
    {
     "data": {
      "text/plain": [
       "0.7310585786300049"
      ]
     },
     "execution_count": 7,
     "metadata": {},
     "output_type": "execute_result"
    }
   ],
   "source": [
    "x = [0.5, 0.3, 0.9]\n",
    "w = [0.2, 0.7, 0.1]\n",
    "b = 0.6\n",
    "result = neuron(x, w, b)\n",
    "result"
   ]
  },
  {
   "cell_type": "code",
   "execution_count": 14,
   "id": "1ff6846f-eee6-4088-8c43-6a6d8945bee6",
   "metadata": {},
   "outputs": [],
   "source": [
    "class SimpleNetwork:\n",
    "    def __init__(self):\n",
    "        #Layer 1\n",
    "        self.w1 = np.random.randn(2,2)* 0.5\n",
    "        self.b1 = np.zeros(2)\n",
    "        #Layer 2\n",
    "        self.w2 = np.random.randn(2,1)*0.5\n",
    "        self.b2 = np.zeros(1)\n",
    "    def sigmoid(self, x):\n",
    "        return 1/(1+np.exp(-np.clip(x, -250, 250)))\n",
    "    def forward(self, x):\n",
    "        z1 = np.dot(x, self.w1) + self.b1\n",
    "        a1 = self.sigmoid(z1)\n",
    "        z2 = np.dot(a1, self.w2) + self.b2\n",
    "        a2 = self.sigmoid(z2)\n",
    "\n",
    "        return a2\n",
    "        "
   ]
  },
  {
   "cell_type": "code",
   "execution_count": 16,
   "id": "5ded0e0c-e25d-466f-a50d-6d6a174bc714",
   "metadata": {},
   "outputs": [
    {
     "name": "stdout",
     "output_type": "stream",
     "text": [
      "Input: [0 0] -> Output: 0.480 (Expected: 0)\n",
      "Input: [0 1] -> Output: 0.485 (Expected: 1)\n",
      "Input: [1 0] -> Output: 0.474 (Expected: 1)\n",
      "Input: [1 1] -> Output: 0.479 (Expected: 1)\n"
     ]
    }
   ],
   "source": [
    "net = SimpleNetwork()\n",
    "for i in range(4):\n",
    "    output = net.forward(X[i])\n",
    "    print(f\"Input: {X[i]} -> Output: {output[0]:.3f} (Expected: {y[i]})\")"
   ]
  },
  {
   "cell_type": "code",
   "execution_count": 17,
   "id": "8fb4e62f-3dbd-4ba2-801e-e05e77dcccc1",
   "metadata": {},
   "outputs": [],
   "source": [
    "# Types of Layers"
   ]
  },
  {
   "cell_type": "code",
   "execution_count": 18,
   "id": "034967aa-5bcc-41a3-93b2-8babbcd69b5f",
   "metadata": {},
   "outputs": [],
   "source": [
    "# Dense Layers (Fully Connected layers)"
   ]
  },
  {
   "cell_type": "code",
   "execution_count": null,
   "id": "ff22692a-6089-4c59-af1d-e865f8e19161",
   "metadata": {},
   "outputs": [],
   "source": [
    "#output = g(x1*w1 + x2+w2 + b1)"
   ]
  },
  {
   "cell_type": "code",
   "execution_count": 22,
   "id": "fa8a09d3-e57f-467c-b18e-3a2af2813f1f",
   "metadata": {},
   "outputs": [
    {
     "name": "stderr",
     "output_type": "stream",
     "text": [
      "C:\\Users\\admin\\AppData\\Roaming\\Python\\Python312\\site-packages\\keras\\src\\layers\\core\\dense.py:87: UserWarning: Do not pass an `input_shape`/`input_dim` argument to a layer. When using Sequential models, prefer using an `Input(shape)` object as the first layer in the model instead.\n",
      "  super().__init__(activity_regularizer=activity_regularizer, **kwargs)\n"
     ]
    }
   ],
   "source": [
    "import numpy as np \n",
    "import tensorflow as tf \n",
    "from tensorflow.keras.layers import *\n",
    "from tensorflow.keras.models import Sequential\n",
    "\n",
    "\n",
    "model = Sequential([Dense(64, activation = 'elu', input_shape = (10,)), \n",
    "                         Dense(32, activation = 'elu'), \n",
    "                         Dense(1, activation = 'sigmoid')])"
   ]
  },
  {
   "cell_type": "code",
   "execution_count": 24,
   "id": "54363d89-1387-4c54-9ad4-6df5189f73f0",
   "metadata": {},
   "outputs": [
    {
     "data": {
      "text/plain": [
       "2817"
      ]
     },
     "execution_count": 24,
     "metadata": {},
     "output_type": "execute_result"
    }
   ],
   "source": [
    "model.count_params()"
   ]
  },
  {
   "cell_type": "code",
   "execution_count": null,
   "id": "7bcefa17-1fbd-46cb-a11b-ccaea6662c6b",
   "metadata": {},
   "outputs": [],
   "source": [
    "# Hidden layer 1 : 10 * 64\n",
    "#hidden layer 2 : 64 * 32 \n",
    "# hidden layer 3 : 32 * 1 \n",
    "2720"
   ]
  },
  {
   "cell_type": "code",
   "execution_count": 26,
   "id": "cffea449-1ffe-4a8f-95fd-ce7e1cd4fbd6",
   "metadata": {},
   "outputs": [
    {
     "name": "stdout",
     "output_type": "stream",
     "text": [
      "Layer 1 dense\n",
      "Bias shape (64,)\n",
      "[0. 0. 0. 0. 0. 0. 0. 0. 0. 0. 0. 0. 0. 0. 0. 0. 0. 0. 0. 0. 0. 0. 0. 0.\n",
      " 0. 0. 0. 0. 0. 0. 0. 0. 0. 0. 0. 0. 0. 0. 0. 0. 0. 0. 0. 0. 0. 0. 0. 0.\n",
      " 0. 0. 0. 0. 0. 0. 0. 0. 0. 0. 0. 0. 0. 0. 0. 0.]\n",
      "Layer 2 dense_1\n",
      "Bias shape (32,)\n",
      "[0. 0. 0. 0. 0. 0. 0. 0. 0. 0. 0. 0. 0. 0. 0. 0. 0. 0. 0. 0. 0. 0. 0. 0.\n",
      " 0. 0. 0. 0. 0. 0. 0. 0.]\n",
      "Layer 3 dense_2\n",
      "Bias shape (1,)\n",
      "[0.]\n"
     ]
    }
   ],
   "source": [
    "for i, layer in enumerate(model.layers, 1):\n",
    "    weights, biases = layer.get_weights()\n",
    "    print(f\"Layer {i} {layer.name}\")\n",
    "    print(\"Bias shape\", biases.shape)\n",
    "    print(biases)"
   ]
  },
  {
   "cell_type": "code",
   "execution_count": 28,
   "id": "80e9d735-69fc-457e-8683-ae37fad14f16",
   "metadata": {},
   "outputs": [],
   "source": [
    "# Convolutional Layers -- Applies filters to detect patterns \n",
    "# images -- kernels compute dot product at each position \n",
    "cnn_model = Sequential([\n",
    "    Conv2D(32, (4,4), activation = 'relu', input_shape = (50,50,2)), # Detect features like edges, corners\n",
    "    Conv2D(64, (4,4), activation = 'relu'), \n",
    "    MaxPooling2D((3,3)), # keeps important features\n",
    "    Flatten(), \n",
    "    Dense(10, activation = 'softmax')\n",
    "])"
   ]
  }
 ],
 "metadata": {
  "kernelspec": {
   "display_name": "Python 3 (ipykernel)",
   "language": "python",
   "name": "python3"
  },
  "language_info": {
   "codemirror_mode": {
    "name": "ipython",
    "version": 3
   },
   "file_extension": ".py",
   "mimetype": "text/x-python",
   "name": "python",
   "nbconvert_exporter": "python",
   "pygments_lexer": "ipython3",
   "version": "3.13.5"
  }
 },
 "nbformat": 4,
 "nbformat_minor": 5
}
